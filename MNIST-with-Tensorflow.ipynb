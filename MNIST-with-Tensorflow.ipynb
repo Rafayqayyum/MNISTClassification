{
 "cells": [
  {
   "cell_type": "code",
   "execution_count": 29,
   "id": "7a969d63",
   "metadata": {},
   "outputs": [],
   "source": [
    "#Importing libraries\n",
    "import tensorflow as tf\n",
    "import pandas as pd\n",
    "import matplotlib.pyplot as plt\n",
    "import numpy as np\n",
    "%matplotlib inline"
   ]
  },
  {
   "cell_type": "code",
   "execution_count": 30,
   "id": "be2752f7",
   "metadata": {},
   "outputs": [],
   "source": [
    "#Importing training and testing data from tensorflow datasets\n",
    "(train_images, train_labels), (test_images, test_labels) = tf.keras.datasets.mnist.load_data()"
   ]
  },
  {
   "cell_type": "code",
   "execution_count": 31,
   "id": "49fe3796",
   "metadata": {},
   "outputs": [],
   "source": [
    "#importing models and layers\n",
    "from tensorflow.keras.layers import Dense\n",
    "from tensorflow.keras.models import Sequential"
   ]
  },
  {
   "cell_type": "code",
   "execution_count": 32,
   "id": "6807b1b7",
   "metadata": {},
   "outputs": [],
   "source": [
    "#chreating a model object and training it \n",
    "model=Sequential()\n",
    "model.add(Dense(500,activation='relu',input_shape=(28 * 28, )))\n",
    "#multi classification thats why activation is softmax\n",
    "model.add(Dense(10,activation='softmax'))\n",
    "model.compile(optimizer='rmsprop',\n",
    "                loss='categorical_crossentropy',\n",
    "                metrics = ['accuracy'])\n"
   ]
  },
  {
   "cell_type": "code",
   "execution_count": 33,
   "id": "704a32f5",
   "metadata": {
    "scrolled": true
   },
   "outputs": [],
   "source": [
    "# Preprocessing training data\n",
    "train_images = train_images.reshape((60000, 28*28))\n",
    "\n",
    "# Preprocessing test data\n",
    "test_images = test_images.reshape((10000, 28 * 28))"
   ]
  },
  {
   "cell_type": "code",
   "execution_count": 34,
   "id": "d85071a6",
   "metadata": {},
   "outputs": [],
   "source": [
    "from tensorflow.keras.utils import to_categorical\n",
    "\n",
    "train_labels = to_categorical(train_labels)\n",
    "test_labels  = to_categorical(test_labels)"
   ]
  },
  {
   "cell_type": "code",
   "execution_count": 35,
   "id": "61847824",
   "metadata": {},
   "outputs": [],
   "source": [
    "#earlytop allows you to stop the training when data is overfitting the \n",
    "#training data\n",
    "from tensorflow.keras.callbacks import EarlyStopping\n",
    "early_stop=EarlyStopping(monitor='val_loss',mode='min',verbose=1,patience=5)"
   ]
  },
  {
   "cell_type": "code",
   "execution_count": null,
   "id": "a495250e",
   "metadata": {},
   "outputs": [
    {
     "name": "stdout",
     "output_type": "stream",
     "text": [
      "Epoch 1/100\n",
      "469/469 [==============================] - 4s 8ms/step - loss: 5.6696 - accuracy: 0.8994 - val_loss: 0.9269 - val_accuracy: 0.9431\n",
      "Epoch 2/100\n",
      "469/469 [==============================] - 3s 7ms/step - loss: 0.6401 - accuracy: 0.9521 - val_loss: 0.7141 - val_accuracy: 0.9531\n",
      "Epoch 3/100\n",
      "469/469 [==============================] - 4s 8ms/step - loss: 0.4727 - accuracy: 0.9647 - val_loss: 0.5714 - val_accuracy: 0.9612\n",
      "Epoch 4/100\n",
      "469/469 [==============================] - 4s 9ms/step - loss: 0.3774 - accuracy: 0.9722 - val_loss: 0.6221 - val_accuracy: 0.9648\n",
      "Epoch 5/100\n",
      "469/469 [==============================] - 4s 9ms/step - loss: 0.3067 - accuracy: 0.9765 - val_loss: 0.6750 - val_accuracy: 0.9682\n",
      "Epoch 6/100\n",
      "469/469 [==============================] - 4s 8ms/step - loss: 0.3014 - accuracy: 0.9800 - val_loss: 0.6633 - val_accuracy: 0.9688\n",
      "Epoch 7/100\n",
      "469/469 [==============================] - 4s 8ms/step - loss: 0.2709 - accuracy: 0.9817 - val_loss: 0.7347 - val_accuracy: 0.9662\n",
      "Epoch 8/100\n",
      " 63/469 [===>..........................] - ETA: 3s - loss: 0.2162 - accuracy: 0.9840"
     ]
    }
   ],
   "source": [
    "model.fit(train_images, train_labels, epochs=100, batch_size=128,\n",
    "          validation_data=(test_images,test_labels),callbacks=[early_stop])"
   ]
  },
  {
   "cell_type": "code",
   "execution_count": null,
   "id": "05b813b2",
   "metadata": {},
   "outputs": [],
   "source": [
    "model_loss=pd.DataFrame(model.history.history)\n",
    "\n",
    "model_loss.plot()"
   ]
  },
  {
   "cell_type": "code",
   "execution_count": null,
   "id": "f27e6ac5",
   "metadata": {},
   "outputs": [],
   "source": [
    "pred=np.argmax(model.predict(test_images), axis=-1)"
   ]
  },
  {
   "cell_type": "code",
   "execution_count": null,
   "id": "4bc2877e",
   "metadata": {},
   "outputs": [],
   "source": [
    "# Calculate Test loss and Test Accuracy\n",
    "test_loss, test_acc = model.evaluate(test_images, test_labels)\n",
    "\n",
    "# Print Test loss and Test Accuracy\n",
    "print(f\"Test Loss: {test_loss}\\nTest Accuracy : {test_acc * 100} %\")"
   ]
  }
 ],
 "metadata": {
  "kernelspec": {
   "display_name": "Python 3 (ipykernel)",
   "language": "python",
   "name": "python3"
  },
  "language_info": {
   "codemirror_mode": {
    "name": "ipython",
    "version": 3
   },
   "file_extension": ".py",
   "mimetype": "text/x-python",
   "name": "python",
   "nbconvert_exporter": "python",
   "pygments_lexer": "ipython3",
   "version": "3.9.7"
  }
 },
 "nbformat": 4,
 "nbformat_minor": 5
}
